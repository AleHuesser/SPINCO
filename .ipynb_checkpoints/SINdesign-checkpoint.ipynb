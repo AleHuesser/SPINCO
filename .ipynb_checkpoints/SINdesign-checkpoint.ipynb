{
 "cells": [
  {
   "cell_type": "code",
   "execution_count": 9,
   "id": "1f3089ff",
   "metadata": {},
   "outputs": [
    {
     "ename": "SyntaxError",
     "evalue": "invalid syntax (2019600123.py, line 4)",
     "output_type": "error",
     "traceback": [
      "\u001b[1;36m  File \u001b[1;32m\"C:\\Users\\gfraga\\AppData\\Local\\Temp\\ipykernel_14448\\2019600123.py\"\u001b[1;36m, line \u001b[1;32m4\u001b[0m\n\u001b[1;33m    conda install -c conda-forge r-quarto\u001b[0m\n\u001b[1;37m          ^\u001b[0m\n\u001b[1;31mSyntaxError\u001b[0m\u001b[1;31m:\u001b[0m invalid syntax\n"
     ]
    }
   ],
   "source": [
    "import quarto\n",
    "import os \n",
    "\n",
    "conda install -c conda-forge r-quarto\n",
    "\n",
    "##quarto render SINdesign.ipynb"
   ]
  },
  {
   "cell_type": "code",
   "execution_count": null,
   "id": "735c87d3",
   "metadata": {},
   "outputs": [],
   "source": [
    "import pandas as pd\n",
    "\n",
    "# create a pandas DataFrame with some input values\n",
    "df = pd.DataFrame({\n",
    "    'Value 1': [10, 20, 30],\n",
    "    'Value 2': [5, 10, 15]\n",
    "})\n",
    "\n",
    "# define a function to calculate the output based on the input values\n",
    "def calculate_output(row):\n",
    "    return row['Value 1'] * row['Value 2']\n",
    "\n",
    "# add a new column to the DataFrame with the calculated output\n",
    "df['Output'] = df.apply(calculate_output, axis=1)\n",
    "\n",
    "# display the interactive table\n",
    "display(df)\n"
   ]
  }
 ],
 "metadata": {
  "kernelspec": {
   "display_name": "Python 3 (ipykernel)",
   "language": "python",
   "name": "python3"
  },
  "language_info": {
   "codemirror_mode": {
    "name": "ipython",
    "version": 3
   },
   "file_extension": ".py",
   "mimetype": "text/x-python",
   "name": "python",
   "nbconvert_exporter": "python",
   "pygments_lexer": "ipython3",
   "version": "3.10.9"
  }
 },
 "nbformat": 4,
 "nbformat_minor": 5
}
