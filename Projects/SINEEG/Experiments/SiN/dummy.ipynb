{
 "cells": [
  {
   "cell_type": "raw",
   "id": "24971c68",
   "metadata": {},
   "source": [
    "---\n",
    "title: TESTING QUARTO\n",
    "author: gfraga\n",
    "format:\n",
    "    html: \n",
    "        code-fold: true\n",
    "---\n"
   ]
  },
  {
   "cell_type": "code",
   "execution_count": null,
   "id": "4773b2d0",
   "metadata": {},
   "outputs": [],
   "source": [
    "import plotly.io as pio\n",
    "pio.renderers.default = \"iframe\"\n",
    "\n",
    "\n"
   ]
  },
  {
   "cell_type": "markdown",
   "id": "91889da9",
   "metadata": {},
   "source": [
    "\n",
    "# Test \n",
    "this is just a test \n"
   ]
  },
  {
   "cell_type": "code",
   "execution_count": null,
   "id": "a5e75e3a",
   "metadata": {},
   "outputs": [],
   "source": [
    "import pandas as pd\n",
    "# create a pandas DataFrame with some input values\n",
    "df = pd.DataFrame({\n",
    "    'Value 1': [10, 20, 30],\n",
    "    'Value 2': [5, 10, 15]\n",
    "})\n",
    "\n",
    "# define a function to calculate the output based on the input values\n",
    "def calculate_output(row):\n",
    "    return row['Value 1'] * row['Value 2']\n",
    "\n",
    "# add a new column to the DataFrame with the calculated output\n",
    "df['Output'] = df.apply(calculate_output, axis=1)\n",
    "\n",
    "# display the interactive table\n",
    "display(df)\n",
    " \n"
   ]
  },
  {
   "cell_type": "markdown",
   "id": "d217045f",
   "metadata": {},
   "source": [
    "::: {.panel-tabset}\n",
    "\n",
    "## Plot\n"
   ]
  },
  {
   "cell_type": "code",
   "execution_count": 14,
   "id": "7bec9cab",
   "metadata": {},
   "outputs": [
    {
     "ename": "SyntaxError",
     "evalue": "invalid syntax (2651263533.py, line 1)",
     "output_type": "error",
     "traceback": [
      "\u001b[1;36m  File \u001b[1;32m\"C:\\Users\\gfraga\\AppData\\Local\\Temp\\ipykernel_24840\\2651263533.py\"\u001b[1;36m, line \u001b[1;32m1\u001b[0m\n\u001b[1;33m    {```python}\u001b[0m\n\u001b[1;37m     ^\u001b[0m\n\u001b[1;31mSyntaxError\u001b[0m\u001b[1;31m:\u001b[0m invalid syntax\n"
     ]
    }
   ],
   "source": [
    "import plotly.express as px\n",
    "import pandas as pd\n",
    "import plotly.io as pio\n",
    "#pio.renderers.default = 'iframe'\n",
    "#pio.renderers.default='svg'\n",
    "\n",
    "# create a sample DataFrame with some data\n",
    "data = pd.DataFrame({\n",
    "    'x': [1, 2, 3, 4, 5],\n",
    "    'y': [10, 8, 6, 4, 2]\n",
    "})\n",
    "\n",
    "# create a scatter plot using Plotly\n",
    "fig = px.scatter(data, x='x', y='y', title='My Scatter Plot')\n",
    "display(fig) "
   ]
  },
  {
   "cell_type": "markdown",
   "id": "711c7e0b",
   "metadata": {},
   "source": [
    "```"
   ]
  },
  {
   "cell_type": "code",
   "execution_count": 13,
   "id": "7905990a",
   "metadata": {},
   "outputs": [
    {
     "data": {
      "text/html": [
       "<iframe\n",
       "    scrolling=\"no\"\n",
       "    width=\"100%\"\n",
       "    height=\"545px\"\n",
       "    src=\"iframe_figures/figure_13.html\"\n",
       "    frameborder=\"0\"\n",
       "    allowfullscreen\n",
       "></iframe>\n"
      ]
     },
     "metadata": {},
     "output_type": "display_data"
    }
   ],
   "source": [
    "\n",
    "#pio.renderers.default = 'iframe'\n",
    "import plotly.graph_objs as go\n",
    "from IPython.display import display\n",
    "\n",
    "fig2 = go.Figure(data=[go.Bar(x=['A', 'B', 'C'], y=[1, 3, 2])])\n",
    "display(fig2)"
   ]
  }
 ],
 "metadata": {
  "kernelspec": {
   "display_name": "Python 3 (Spyder)",
   "language": "python3",
   "name": "python3"
  },
  "language_info": {
   "codemirror_mode": {
    "name": "ipython",
    "version": 3
   },
   "file_extension": ".py",
   "mimetype": "text/x-python",
   "name": "python",
   "nbconvert_exporter": "python",
   "pygments_lexer": "ipython3",
   "version": "3.10.9"
  }
 },
 "nbformat": 4,
 "nbformat_minor": 5
}
