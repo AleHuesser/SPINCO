{
 "cells": [
  {
   "cell_type": "raw",
   "id": "a3bff0cf",
   "metadata": {},
   "source": [
    "---\n",
    "title: Notebook\n",
    "author: gfraga\n",
    "format:\n",
    "    html: \n",
    "        code-fold: true\n",
    "---\n"
   ]
  },
  {
   "cell_type": "code",
   "execution_count": null,
   "id": "e72fba7f",
   "metadata": {},
   "outputs": [],
   "source": [
    "\n",
    "```{python}\n",
    "import plotly.io as pio\n",
    "pio.renderers.default = \"plotly_mimetype+notebook_connected\"\n",
    "```"
   ]
  },
  {
   "cell_type": "markdown",
   "id": "9550821c",
   "metadata": {},
   "source": [
    "# Sentence in Noise Comprehension \n",
    "\n",
    "I Am just trying out quarto  stuff\n"
   ]
  },
  {
   "cell_type": "code",
   "execution_count": 8,
   "id": "654188a9",
   "metadata": {},
   "outputs": [
    {
     "data": {
      "text/html": [
       "<div>\n",
       "<style scoped>\n",
       "    .dataframe tbody tr th:only-of-type {\n",
       "        vertical-align: middle;\n",
       "    }\n",
       "\n",
       "    .dataframe tbody tr th {\n",
       "        vertical-align: top;\n",
       "    }\n",
       "\n",
       "    .dataframe thead th {\n",
       "        text-align: right;\n",
       "    }\n",
       "</style>\n",
       "<table border=\"1\" class=\"dataframe\">\n",
       "  <thead>\n",
       "    <tr style=\"text-align: right;\">\n",
       "      <th></th>\n",
       "      <th>Value 1</th>\n",
       "      <th>Value 2</th>\n",
       "      <th>Output</th>\n",
       "    </tr>\n",
       "  </thead>\n",
       "  <tbody>\n",
       "    <tr>\n",
       "      <th>0</th>\n",
       "      <td>10</td>\n",
       "      <td>5</td>\n",
       "      <td>50</td>\n",
       "    </tr>\n",
       "    <tr>\n",
       "      <th>1</th>\n",
       "      <td>20</td>\n",
       "      <td>10</td>\n",
       "      <td>200</td>\n",
       "    </tr>\n",
       "    <tr>\n",
       "      <th>2</th>\n",
       "      <td>30</td>\n",
       "      <td>15</td>\n",
       "      <td>450</td>\n",
       "    </tr>\n",
       "  </tbody>\n",
       "</table>\n",
       "</div>"
      ],
      "text/plain": [
       "   Value 1  Value 2  Output\n",
       "0       10        5      50\n",
       "1       20       10     200\n",
       "2       30       15     450"
      ]
     },
     "metadata": {},
     "output_type": "display_data"
    }
   ],
   "source": [
    "import pandas as pd\n",
    "\n",
    "# create a pandas DataFrame with some input values\n",
    "df = pd.DataFrame({\n",
    "    'Value 1': [10, 20, 30],\n",
    "    'Value 2': [5, 10, 15]\n",
    "})\n",
    "\n",
    "# define a function to calculate the output based on the input values\n",
    "def calculate_output(row):\n",
    "    return row['Value 1'] * row['Value 2']\n",
    "\n",
    "# add a new column to the DataFrame with the calculated output\n",
    "df['Output'] = df.apply(calculate_output, axis=1)\n",
    "\n",
    "# display the interactive table\n",
    "display(df)\n",
    "\n",
    "\n",
    "\n",
    "\n",
    "\n",
    " "
   ]
  },
  {
   "cell_type": "code",
   "execution_count": 6,
   "id": "eafc2127",
   "metadata": {},
   "outputs": [
    {
     "data": {
      "text/html": [
       "<iframe\n",
       "    scrolling=\"no\"\n",
       "    width=\"100%\"\n",
       "    height=\"545px\"\n",
       "    src=\"iframe_figures/figure_4.html\"\n",
       "    frameborder=\"0\"\n",
       "    allowfullscreen\n",
       "></iframe>\n"
      ]
     },
     "metadata": {},
     "output_type": "display_data"
    }
   ],
   "source": [
    "\n",
    "import plotly.express as px\n",
    "import pandas as pd\n",
    "import plotly.io as pio\n",
    "pio.renderers.default = 'iframe'\n",
    "#pio.renderers.default='svg'\n",
    "\n",
    "# create a sample DataFrame with some data\n",
    "data = pd.DataFrame({\n",
    "    'x': [1, 2, 3, 4, 5],\n",
    "    'y': [10, 8, 6, 4, 2]\n",
    "})\n",
    "\n",
    "# create a scatter plot using Plotly\n",
    "fig = px.scatter(data, x='x', y='y', title='My Scatter Plot')\n",
    "fig.show()\n",
    "\n"
   ]
  },
  {
   "cell_type": "code",
   "execution_count": 5,
   "id": "a559daa7",
   "metadata": {},
   "outputs": [
    {
     "data": {
      "text/html": [
       "<iframe\n",
       "    scrolling=\"no\"\n",
       "    width=\"100%\"\n",
       "    height=\"545px\"\n",
       "    src=\"iframe_figures/figure_4.html\"\n",
       "    frameborder=\"0\"\n",
       "    allowfullscreen\n",
       "></iframe>\n"
      ]
     },
     "metadata": {},
     "output_type": "display_data"
    }
   ],
   "source": [
    "pio.renderers.default = 'iframe'\n",
    "import plotly.graph_objs as go\n",
    "from IPython.display import display\n",
    "\n",
    "fig = go.Figure(data=[go.Bar(x=['A', 'B', 'C'], y=[1, 3, 2])])\n",
    "display(fig)"
   ]
  }
 ],
 "metadata": {
  "kernelspec": {
   "display_name": "Python 3 (Spyder)",
   "language": "python3",
   "name": "python3"
  },
  "language_info": {
   "codemirror_mode": {
    "name": "ipython",
    "version": 3
   },
   "file_extension": ".py",
   "mimetype": "text/x-python",
   "name": "python",
   "nbconvert_exporter": "python",
   "pygments_lexer": "ipython3",
   "version": "3.10.9"
  }
 },
 "nbformat": 4,
 "nbformat_minor": 5
}
