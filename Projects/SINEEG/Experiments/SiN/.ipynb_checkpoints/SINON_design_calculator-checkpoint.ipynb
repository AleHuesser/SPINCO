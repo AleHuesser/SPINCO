{
 "cells": [
  {
   "cell_type": "raw",
   "id": "ba67b55c",
   "metadata": {},
   "source": [
    "---\n",
    "title: Notebook\n",
    "author: gfraga\n",
    "format:\n",
    "    html: \n",
    "        code-fold: true\n",
    "---\n"
   ]
  },
  {
   "cell_type": "code",
   "execution_count": null,
   "id": "d3a28f9e",
   "metadata": {},
   "outputs": [],
   "source": [
    "import plotly.io as pio\n",
    "pio.renderers.default = \"iframe\"\n"
   ]
  },
  {
   "cell_type": "markdown",
   "id": "c641fdec",
   "metadata": {},
   "source": [
    "# Sentence in Noise Comprehension \n",
    "\n",
    "I Am just trying out quarto  stuff\n"
   ]
  },
  {
   "cell_type": "code",
   "execution_count": null,
   "id": "9293b2e8",
   "metadata": {},
   "outputs": [],
   "source": [
    "import pandas as pd\n",
    "\n",
    "# create a pandas DataFrame with some input values\n",
    "df = pd.DataFrame({\n",
    "    'Value 1': [10, 20, 30],\n",
    "    'Value 2': [5, 10, 15]\n",
    "})\n",
    "\n",
    "# define a function to calculate the output based on the input values\n",
    "def calculate_output(row):\n",
    "    return row['Value 1'] * row['Value 2']\n",
    "\n",
    "# add a new column to the DataFrame with the calculated output\n",
    "df['Output'] = df.apply(calculate_output, axis=1)\n",
    "\n",
    "# display the interactive table\n",
    "display(df)\n",
    "\n",
    "\n",
    "\n",
    "\n",
    "\n",
    " "
   ]
  },
  {
   "cell_type": "code",
   "execution_count": null,
   "id": "f4cd3695",
   "metadata": {},
   "outputs": [],
   "source": [
    "\n",
    "import plotly.express as px\n",
    "import pandas as pd\n",
    "import plotly.io as pio\n",
    "#pio.renderers.default='svg'\n",
    "\n",
    "# create a sample DataFrame with some data\n",
    "data = pd.DataFrame({\n",
    "    'x': [1, 2, 3, 4, 5],\n",
    "    'y': [10, 8, 6, 4, 2]\n",
    "})\n",
    "\n",
    "# create a scatter plot using Plotly\n",
    "fig = px.scatter(data, x='x', y='y', title='My Scatter Plot')\n",
    "fig.show()\n",
    "\n"
   ]
  },
  {
   "cell_type": "code",
   "execution_count": null,
   "id": "c2d97f44",
   "metadata": {},
   "outputs": [],
   "source": [
    "import plotly.graph_objs as go\n",
    "from IPython.display import display\n",
    "\n",
    "fig2 = go.Figure(data=[go.Bar(x=['A', 'B', 'C'], y=[1, 3, 2])])\n",
    "display(fig2)"
   ]
  }
 ],
 "metadata": {
  "kernelspec": {
   "display_name": "Python 3 (Spyder)",
   "language": "python3",
   "name": "python3"
  },
  "language_info": {
   "codemirror_mode": {
    "name": "ipython",
    "version": 3
   },
   "file_extension": ".py",
   "mimetype": "text/x-python",
   "name": "python",
   "nbconvert_exporter": "python",
   "pygments_lexer": "ipython3",
   "version": "3.10.9"
  }
 },
 "nbformat": 4,
 "nbformat_minor": 5
}
